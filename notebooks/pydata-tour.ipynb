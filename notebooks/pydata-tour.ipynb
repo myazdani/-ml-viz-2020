{
 "cells": [
  {
   "cell_type": "markdown",
   "metadata": {
    "slideshow": {
     "slide_type": "slide"
    }
   },
   "source": [
    "# PyData tour\n",
    "\n",
    "\n",
    "\n",
    "- `pandas` and `numpy` are the primary libraries used for data analysis in Python\n",
    "- `pd` and `np` are the conventional Python namespaces used; it is strongly recommended you do the same\n"
   ]
  },
  {
   "cell_type": "code",
   "execution_count": null,
   "metadata": {
    "ExecuteTime": {
     "end_time": "2019-08-29T15:47:35.272963Z",
     "start_time": "2019-08-29T15:47:34.775081Z"
    }
   },
   "outputs": [],
   "source": [
    "import pandas as pd\n",
    "import numpy as np\n"
   ]
  },
  {
   "cell_type": "markdown",
   "metadata": {
    "slideshow": {
     "slide_type": "slide"
    }
   },
   "source": [
    "- `matplotlib` and `seaborn` are the most popular static data viz libraries in Python\n",
    "- Again it is strongly recommended you use the `plt` and `sns` namespaces for both!\n"
   ]
  },
  {
   "cell_type": "code",
   "execution_count": null,
   "metadata": {
    "ExecuteTime": {
     "end_time": "2019-08-29T15:47:35.891319Z",
     "start_time": "2019-08-29T15:47:35.275351Z"
    },
    "slideshow": {
     "slide_type": "-"
    }
   },
   "outputs": [],
   "source": [
    "import matplotlib.pyplot as plt\n",
    "%matplotlib inline\n",
    "\n",
    "import seaborn as sns"
   ]
  },
  {
   "cell_type": "markdown",
   "metadata": {
    "slideshow": {
     "slide_type": "slide"
    }
   },
   "source": [
    "## Load a data set example: "
   ]
  },
  {
   "cell_type": "code",
   "execution_count": null,
   "metadata": {
    "ExecuteTime": {
     "end_time": "2019-08-29T15:47:36.663120Z",
     "start_time": "2019-08-29T15:47:35.893799Z"
    },
    "colab": {},
    "colab_type": "code",
    "id": "aEmf3rOkkDQC",
    "slideshow": {
     "slide_type": "-"
    }
   },
   "outputs": [],
   "source": [
    "url=\"https://gist.githubusercontent.com/curran/a08a1080b88344b0c8a7/raw/d546eaee765268bf2f487608c537c05e22e4b221/iris.csv\"\n",
    "\n",
    "df = pd.read_csv(url)\n",
    "df.head()\n",
    "\n",
    "#df = sns.load_dataset(\"iris\")"
   ]
  },
  {
   "cell_type": "code",
   "execution_count": null,
   "metadata": {
    "ExecuteTime": {
     "end_time": "2019-08-29T15:47:36.668492Z",
     "start_time": "2019-08-29T15:47:36.665843Z"
    }
   },
   "outputs": [],
   "source": [
    "#df.tail()"
   ]
  },
  {
   "cell_type": "code",
   "execution_count": null,
   "metadata": {
    "ExecuteTime": {
     "end_time": "2019-08-29T15:47:36.701505Z",
     "start_time": "2019-08-29T15:47:36.670821Z"
    }
   },
   "outputs": [],
   "source": [
    "df.describe()"
   ]
  },
  {
   "cell_type": "markdown",
   "metadata": {
    "ExecuteTime": {
     "end_time": "2019-04-04T04:11:51.297004Z",
     "start_time": "2019-04-04T04:11:51.284236Z"
    },
    "slideshow": {
     "slide_type": "slide"
    }
   },
   "source": [
    "## Selecting values"
   ]
  },
  {
   "cell_type": "code",
   "execution_count": null,
   "metadata": {
    "ExecuteTime": {
     "end_time": "2019-08-29T15:47:36.717793Z",
     "start_time": "2019-08-29T15:47:36.704514Z"
    }
   },
   "outputs": [],
   "source": [
    "df.head()"
   ]
  },
  {
   "cell_type": "code",
   "execution_count": null,
   "metadata": {
    "ExecuteTime": {
     "end_time": "2019-08-29T15:47:36.734971Z",
     "start_time": "2019-08-29T15:47:36.720255Z"
    }
   },
   "outputs": [],
   "source": [
    "df.iloc[::3,-2:]"
   ]
  },
  {
   "cell_type": "code",
   "execution_count": null,
   "metadata": {
    "ExecuteTime": {
     "end_time": "2019-08-29T15:47:36.752095Z",
     "start_time": "2019-08-29T15:47:36.739990Z"
    }
   },
   "outputs": [],
   "source": [
    "df[['sepal_length', 'sepal_width']].iloc[:2]"
   ]
  },
  {
   "cell_type": "markdown",
   "metadata": {
    "slideshow": {
     "slide_type": "slide"
    }
   },
   "source": [
    "## Selecting values continued"
   ]
  },
  {
   "cell_type": "code",
   "execution_count": null,
   "metadata": {
    "ExecuteTime": {
     "end_time": "2019-08-29T15:47:36.787729Z",
     "start_time": "2019-08-29T15:47:36.757701Z"
    }
   },
   "outputs": [],
   "source": [
    "df[df.sepal_length>5].describe()"
   ]
  },
  {
   "cell_type": "code",
   "execution_count": null,
   "metadata": {
    "ExecuteTime": {
     "end_time": "2019-08-29T15:47:36.802940Z",
     "start_time": "2019-08-29T15:47:36.789801Z"
    }
   },
   "outputs": [],
   "source": [
    "df.head()"
   ]
  },
  {
   "cell_type": "code",
   "execution_count": null,
   "metadata": {
    "ExecuteTime": {
     "end_time": "2019-08-29T15:47:36.811187Z",
     "start_time": "2019-08-29T15:47:36.807826Z"
    }
   },
   "outputs": [],
   "source": [
    "#df.index"
   ]
  },
  {
   "cell_type": "code",
   "execution_count": null,
   "metadata": {
    "ExecuteTime": {
     "end_time": "2019-08-29T15:47:36.816663Z",
     "start_time": "2019-08-29T15:47:36.813689Z"
    }
   },
   "outputs": [],
   "source": [
    "#df1.to_csv(\"filename.csv\", index = False)"
   ]
  },
  {
   "cell_type": "markdown",
   "metadata": {
    "slideshow": {
     "slide_type": "slide"
    }
   },
   "source": [
    "## NumPy Arrays"
   ]
  },
  {
   "cell_type": "code",
   "execution_count": null,
   "metadata": {
    "ExecuteTime": {
     "end_time": "2019-08-29T15:47:36.824737Z",
     "start_time": "2019-08-29T15:47:36.820381Z"
    }
   },
   "outputs": [],
   "source": [
    "sepal_len = df[\"sepal_length\"].values\n",
    "petal_len = df.petal_length.values"
   ]
  },
  {
   "cell_type": "code",
   "execution_count": null,
   "metadata": {
    "ExecuteTime": {
     "end_time": "2019-08-29T15:47:36.833500Z",
     "start_time": "2019-08-29T15:47:36.827822Z"
    }
   },
   "outputs": [],
   "source": [
    "sepal_len.shape"
   ]
  },
  {
   "cell_type": "code",
   "execution_count": null,
   "metadata": {
    "ExecuteTime": {
     "end_time": "2019-08-29T15:47:36.843403Z",
     "start_time": "2019-08-29T15:47:36.836261Z"
    }
   },
   "outputs": [],
   "source": [
    "np.mean(sepal_len), np.median(sepal_len)"
   ]
  },
  {
   "cell_type": "code",
   "execution_count": null,
   "metadata": {
    "ExecuteTime": {
     "end_time": "2019-08-29T15:47:36.851065Z",
     "start_time": "2019-08-29T15:47:36.845646Z"
    }
   },
   "outputs": [],
   "source": [
    "sepal_len[:5]"
   ]
  },
  {
   "cell_type": "markdown",
   "metadata": {
    "slideshow": {
     "slide_type": "slide"
    }
   },
   "source": [
    "## Broadcasting"
   ]
  },
  {
   "cell_type": "code",
   "execution_count": null,
   "metadata": {
    "ExecuteTime": {
     "end_time": "2019-08-29T15:47:36.859080Z",
     "start_time": "2019-08-29T15:47:36.853878Z"
    }
   },
   "outputs": [],
   "source": [
    "sepal_len.shape"
   ]
  },
  {
   "cell_type": "code",
   "execution_count": null,
   "metadata": {
    "ExecuteTime": {
     "end_time": "2019-08-29T15:47:36.869503Z",
     "start_time": "2019-08-29T15:47:36.862217Z"
    },
    "scrolled": false
   },
   "outputs": [],
   "source": [
    "diffs = np.abs(sepal_len[:,np.newaxis] - sepal_len[np.newaxis,:])\n",
    "diffs.shape"
   ]
  },
  {
   "cell_type": "code",
   "execution_count": null,
   "metadata": {
    "ExecuteTime": {
     "end_time": "2019-08-29T15:47:37.647378Z",
     "start_time": "2019-08-29T15:47:36.872716Z"
    }
   },
   "outputs": [],
   "source": [
    "sns.heatmap(diffs);"
   ]
  },
  {
   "cell_type": "code",
   "execution_count": null,
   "metadata": {
    "ExecuteTime": {
     "end_time": "2019-08-29T15:47:40.702097Z",
     "start_time": "2019-08-29T15:47:37.650647Z"
    },
    "slideshow": {
     "slide_type": "slide"
    }
   },
   "outputs": [],
   "source": [
    "%%timeit\n",
    "diffs = np.abs(sepal_len[:,np.newaxis] - sepal_len[np.newaxis,:])"
   ]
  },
  {
   "cell_type": "code",
   "execution_count": null,
   "metadata": {
    "ExecuteTime": {
     "end_time": "2019-08-29T15:47:43.910818Z",
     "start_time": "2019-08-29T15:47:40.703993Z"
    }
   },
   "outputs": [],
   "source": [
    "%%timeit\n",
    "diffs = np.zeros((150,150))\n",
    "\n",
    "for i in range(150):\n",
    "    for j in range(150):\n",
    "        diffs[i,j] = np.abs(sepal_len[i] - sepal_len[j])"
   ]
  },
  {
   "cell_type": "markdown",
   "metadata": {
    "slideshow": {
     "slide_type": "slide"
    }
   },
   "source": [
    "## Matplotlib : MATLAB-style API"
   ]
  },
  {
   "cell_type": "code",
   "execution_count": null,
   "metadata": {
    "ExecuteTime": {
     "end_time": "2019-08-29T15:47:44.118926Z",
     "start_time": "2019-08-29T15:47:43.912708Z"
    }
   },
   "outputs": [],
   "source": [
    "x = np.arange(0,50, .1)\n",
    "plt.plot(x, np.sin(x));"
   ]
  },
  {
   "cell_type": "markdown",
   "metadata": {
    "slideshow": {
     "slide_type": "slide"
    }
   },
   "source": [
    "## Matplotlib : MATLAB-style API"
   ]
  },
  {
   "cell_type": "code",
   "execution_count": null,
   "metadata": {
    "ExecuteTime": {
     "end_time": "2019-08-29T15:47:44.449166Z",
     "start_time": "2019-08-29T15:47:44.123154Z"
    }
   },
   "outputs": [],
   "source": [
    "plt.figure(figsize = (8,3))  # create a plot figure\n",
    "\n",
    "# create the first of two panels and set current axis\n",
    "plt.subplot(2, 1, 1) # (rows, columns, panel number)\n",
    "plt.plot(x, np.sin(x))\n",
    "\n",
    "# create the second panel and set current axis\n",
    "plt.subplot(2, 1, 2)\n",
    "plt.plot(-x, np.cos(x));"
   ]
  },
  {
   "cell_type": "markdown",
   "metadata": {
    "slideshow": {
     "slide_type": "slide"
    }
   },
   "source": [
    "## Matplotlib: Object Oriented API"
   ]
  },
  {
   "cell_type": "code",
   "execution_count": null,
   "metadata": {
    "ExecuteTime": {
     "end_time": "2019-08-29T15:47:45.058440Z",
     "start_time": "2019-08-29T15:47:44.453406Z"
    }
   },
   "outputs": [],
   "source": [
    "# First create a grid of plots\n",
    "# ax will be an array of two Axes objects\n",
    "fig, ax = plt.subplots(2,2, figsize=(12,3))\n",
    "\n",
    "# Call plot() method on the appropriate object\n",
    "ax[0,0].plot(x, np.sin(x))\n",
    "ax[0,1].plot(x, np.cos(x));"
   ]
  },
  {
   "cell_type": "markdown",
   "metadata": {
    "slideshow": {
     "slide_type": "slide"
    }
   },
   "source": [
    "## Seaborn overview\n"
   ]
  },
  {
   "cell_type": "code",
   "execution_count": null,
   "metadata": {
    "ExecuteTime": {
     "end_time": "2019-08-29T15:47:45.075337Z",
     "start_time": "2019-08-29T15:47:45.060593Z"
    },
    "colab": {
     "base_uri": "https://localhost:8080/",
     "height": 204
    },
    "colab_type": "code",
    "id": "KGCztG4eLpLP",
    "outputId": "43fbe4cf-207c-40a0-c6cf-b50f234b9282"
   },
   "outputs": [],
   "source": [
    "tips = sns.load_dataset('tips')\n",
    "tips['tip_pct'] = 100 * tips['tip'] / tips['total_bill']"
   ]
  },
  {
   "cell_type": "code",
   "execution_count": null,
   "metadata": {
    "ExecuteTime": {
     "end_time": "2019-08-29T15:47:46.237639Z",
     "start_time": "2019-08-29T15:47:45.077498Z"
    },
    "code_folding": [],
    "colab": {
     "base_uri": "https://localhost:8080/",
     "height": 437
    },
    "colab_type": "code",
    "id": "lqjgNWbcYVGz",
    "outputId": "51aef0f4-c5c8-47c4-84b2-6e9407570be6"
   },
   "outputs": [],
   "source": [
    "with sns.axes_style(style='ticks'):\n",
    "    grid = sns.FacetGrid(tips, row=\"sex\", col=\"time\", hue= \"smoker\", \n",
    "                         margin_titles=True)\n",
    "    grid.map(plt.hist, \"tip_pct\", bins=np.linspace(0, 40, 15), alpha = .5);"
   ]
  },
  {
   "cell_type": "code",
   "execution_count": null,
   "metadata": {
    "ExecuteTime": {
     "end_time": "2019-08-29T15:47:46.630141Z",
     "start_time": "2019-08-29T15:47:46.239816Z"
    },
    "colab": {
     "base_uri": "https://localhost:8080/",
     "height": 419
    },
    "colab_type": "code",
    "id": "GXxT0YVSYW8G",
    "outputId": "91888809-c3c3-472b-cda0-8bae3e6c10a5",
    "slideshow": {
     "slide_type": "slide"
    }
   },
   "outputs": [],
   "source": [
    "\n",
    "g = sns.catplot(\"day\", \"total_bill\", \"sex\", data=tips, kind=\"box\")\n"
   ]
  },
  {
   "cell_type": "markdown",
   "metadata": {
    "slideshow": {
     "slide_type": "slide"
    }
   },
   "source": [
    "## feature engineering example"
   ]
  },
  {
   "cell_type": "code",
   "execution_count": null,
   "metadata": {
    "ExecuteTime": {
     "end_time": "2019-08-29T15:47:47.341192Z",
     "start_time": "2019-08-29T15:47:46.632386Z"
    },
    "colab": {},
    "colab_type": "code",
    "id": "RClasq24jL4Z",
    "slideshow": {
     "slide_type": "-"
    }
   },
   "outputs": [],
   "source": [
    "from sklearn.datasets import make_circles\n",
    "\n",
    "np.random.seed(0)\n",
    "\n",
    "X, y = make_circles(n_samples=400, factor=.1, noise=.05)"
   ]
  },
  {
   "cell_type": "code",
   "execution_count": null,
   "metadata": {
    "ExecuteTime": {
     "end_time": "2019-08-29T15:47:47.348674Z",
     "start_time": "2019-08-29T15:47:47.343678Z"
    },
    "colab": {},
    "colab_type": "code",
    "id": "IlZT5-eC0_Ga",
    "slideshow": {
     "slide_type": "slide"
    }
   },
   "outputs": [],
   "source": [
    "df_X = pd.DataFrame(X, columns = [\"f1\", \"f2\"])\n",
    "df_X[\"f3\"] = df_X.f1**2 + df_X.f2**2"
   ]
  },
  {
   "cell_type": "code",
   "execution_count": null,
   "metadata": {
    "ExecuteTime": {
     "end_time": "2019-08-29T15:47:47.696168Z",
     "start_time": "2019-08-29T15:47:47.350903Z"
    },
    "colab": {
     "base_uri": "https://localhost:8080/",
     "height": 365
    },
    "colab_type": "code",
    "id": "JkdyoQPijvH7",
    "outputId": "0941b1bc-4305-4a4b-9e5e-abd8586a776d"
   },
   "outputs": [],
   "source": [
    "sns.relplot(x = \"f1\", y = \"f2\", hue = \"f3\", data = df_X);"
   ]
  },
  {
   "cell_type": "code",
   "execution_count": null,
   "metadata": {},
   "outputs": [],
   "source": []
  }
 ],
 "metadata": {
  "celltoolbar": "Slideshow",
  "colab": {
   "name": "matplotlib-seaborn.ipynb",
   "provenance": [],
   "version": "0.3.2"
  },
  "hide_input": false,
  "kernelspec": {
   "display_name": "Python 3",
   "language": "python",
   "name": "python3"
  },
  "language_info": {
   "codemirror_mode": {
    "name": "ipython",
    "version": 3
   },
   "file_extension": ".py",
   "mimetype": "text/x-python",
   "name": "python",
   "nbconvert_exporter": "python",
   "pygments_lexer": "ipython3",
   "version": "3.6.9"
  },
  "latex_envs": {
   "LaTeX_envs_menu_present": false,
   "autoclose": false,
   "autocomplete": true,
   "bibliofile": "biblio.bib",
   "cite_by": "apalike",
   "current_citInitial": 1,
   "eqLabelWithNumbers": true,
   "eqNumInitial": 1,
   "hotkeys": {
    "equation": "Ctrl-E",
    "itemize": "Ctrl-I"
   },
   "labels_anchors": false,
   "latex_user_defs": false,
   "report_style_numbering": false,
   "user_envs_cfg": false
  },
  "varInspector": {
   "cols": {
    "lenName": 16,
    "lenType": 16,
    "lenVar": 40
   },
   "kernels_config": {
    "python": {
     "delete_cmd_postfix": "",
     "delete_cmd_prefix": "del ",
     "library": "var_list.py",
     "varRefreshCmd": "print(var_dic_list())"
    },
    "r": {
     "delete_cmd_postfix": ") ",
     "delete_cmd_prefix": "rm(",
     "library": "var_list.r",
     "varRefreshCmd": "cat(var_dic_list()) "
    }
   },
   "types_to_exclude": [
    "module",
    "function",
    "builtin_function_or_method",
    "instance",
    "_Feature"
   ],
   "window_display": false
  }
 },
 "nbformat": 4,
 "nbformat_minor": 2
}
