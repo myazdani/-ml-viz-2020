{
 "cells": [
  {
   "cell_type": "markdown",
   "metadata": {
    "slideshow": {
     "slide_type": "slide"
    }
   },
   "source": [
    "# PyData tour\n",
    "\n",
    "\n",
    "\n",
    "- `pandas` and `numpy` are the primary libraries used for data analysis in Python\n",
    "- `pd` and `np` are the conventional Python namespaces used; it is strongly recommended you do the same\n"
   ]
  },
  {
   "cell_type": "code",
   "execution_count": null,
   "metadata": {
    "ExecuteTime": {
     "end_time": "2019-08-29T15:47:35.272963Z",
     "start_time": "2019-08-29T15:47:34.775081Z"
    }
   },
   "outputs": [],
   "source": [
    "import pandas as pd\n",
    "import numpy as np\n"
   ]
  },
  {
   "cell_type": "markdown",
   "metadata": {
    "slideshow": {
     "slide_type": "slide"
    }
   },
   "source": [
    "- `matplotlib` and `seaborn` are the most popular static data viz libraries in Python\n",
    "- Again it is strongly recommended you use the `plt` and `sns` namespaces for both!\n"
   ]
  },
  {
   "cell_type": "code",
   "execution_count": null,
   "metadata": {
    "ExecuteTime": {
     "end_time": "2019-08-29T15:47:35.891319Z",
     "start_time": "2019-08-29T15:47:35.275351Z"
    },
    "slideshow": {
     "slide_type": "-"
    }
   },
   "outputs": [],
   "source": [
    "import matplotlib.pyplot as plt\n",
    "%matplotlib inline\n",
    "\n",
    "import seaborn as sns"
   ]
  },
  {
   "cell_type": "markdown",
   "metadata": {
    "slideshow": {
     "slide_type": "slide"
    }
   },
   "source": [
    "## Load a data set example: "
   ]
  },
  {
   "cell_type": "code",
   "execution_count": null,
   "metadata": {
    "ExecuteTime": {
     "end_time": "2019-08-29T15:47:36.663120Z",
     "start_time": "2019-08-29T15:47:35.893799Z"
    },
    "colab": {},
    "colab_type": "code",
    "id": "aEmf3rOkkDQC",
    "slideshow": {
     "slide_type": "-"
    }
   },
   "outputs": [],
   "source": [
    "url=\"https://gist.githubusercontent.com/curran/a08a1080b88344b0c8a7/raw/d546eaee765268bf2f487608c537c05e22e4b221/iris.csv\"\n",
    "\n",
    "df = pd.read_csv(url)\n",
    "df.head()\n",
    "\n",
    "#df = sns.load_dataset(\"iris\")"
   ]
  },
  {
   "cell_type": "code",
   "execution_count": null,
   "metadata": {
    "ExecuteTime": {
     "end_time": "2019-08-29T15:47:36.668492Z",
     "start_time": "2019-08-29T15:47:36.665843Z"
    }
   },
   "outputs": [],
   "source": [
    "#df.tail()"
   ]
  },
  {
   "cell_type": "code",
   "execution_count": null,
   "metadata": {
    "ExecuteTime": {
     "end_time": "2019-08-29T15:47:36.701505Z",
     "start_time": "2019-08-29T15:47:36.670821Z"
    }
   },
   "outputs": [],
   "source": [
    "df.describe()"
   ]
  },
  {
   "cell_type": "markdown",
   "metadata": {
    "ExecuteTime": {
     "end_time": "2019-04-04T04:11:51.297004Z",
     "start_time": "2019-04-04T04:11:51.284236Z"
    },
    "slideshow": {
     "slide_type": "slide"
    }
   },
   "source": [
    "## Selecting values"
   ]
  },
  {
   "cell_type": "code",
   "execution_count": null,
   "metadata": {
    "ExecuteTime": {
     "end_time": "2019-08-29T15:47:36.717793Z",
     "start_time": "2019-08-29T15:47:36.704514Z"
    }
   },
   "outputs": [],
   "source": [
    "df.head()"
   ]
  },
  {
   "cell_type": "code",
   "execution_count": null,
   "metadata": {
    "ExecuteTime": {
     "end_time": "2019-08-29T15:47:36.734971Z",
     "start_time": "2019-08-29T15:47:36.720255Z"
    }
   },
   "outputs": [],
   "source": [
    "df.iloc[::3,-2:]"
   ]
  },
  {
   "cell_type": "code",
   "execution_count": null,
   "metadata": {
    "ExecuteTime": {
     "end_time": "2019-08-29T15:47:36.752095Z",
     "start_time": "2019-08-29T15:47:36.739990Z"
    }
   },
   "outputs": [],
   "source": [
    "df[['sepal_length', 'sepal_width']].iloc[:2]"
   ]
  },
  {
   "cell_type": "markdown",
   "metadata": {
    "slideshow": {
     "slide_type": "slide"
    }
   },
   "source": [
    "## Selecting values continued"
   ]
  },
  {
   "cell_type": "code",
   "execution_count": null,
   "metadata": {
    "ExecuteTime": {
     "end_time": "2019-08-29T15:47:36.787729Z",
     "start_time": "2019-08-29T15:47:36.757701Z"
    }
   },
   "outputs": [],
   "source": [
    "df[df.sepal_length>5].describe()"
   ]
  },
  {
   "cell_type": "code",
   "execution_count": null,
   "metadata": {
    "ExecuteTime": {
     "end_time": "2019-08-29T15:47:36.802940Z",
     "start_time": "2019-08-29T15:47:36.789801Z"
    }
   },
   "outputs": [],
   "source": [
    "df.head()"
   ]
  },
  {
   "cell_type": "code",
   "execution_count": null,
   "metadata": {
    "ExecuteTime": {
     "end_time": "2019-08-29T15:47:36.811187Z",
     "start_time": "2019-08-29T15:47:36.807826Z"
    }
   },
   "outputs": [],
   "source": [
    "#df.index"
   ]
  },
  {
   "cell_type": "code",
   "execution_count": null,
   "metadata": {
    "ExecuteTime": {
     "end_time": "2019-08-29T15:47:36.816663Z",
     "start_time": "2019-08-29T15:47:36.813689Z"
    }
   },
   "outputs": [],
   "source": [
    "#df1.to_csv(\"filename.csv\", index = False)"
   ]
  },
  {
   "cell_type": "markdown",
   "metadata": {
    "slideshow": {
     "slide_type": "slide"
    }
   },
   "source": [
    "## NumPy Arrays"
   ]
  },
  {
   "cell_type": "code",
   "execution_count": null,
   "metadata": {
    "ExecuteTime": {
     "end_time": "2019-08-29T15:47:36.824737Z",
     "start_time": "2019-08-29T15:47:36.820381Z"
    }
   },
   "outputs": [],
   "source": [
    "sepal_len = df[\"sepal_length\"].values\n",
    "petal_len = df.petal_length.values"
   ]
  },
  {
   "cell_type": "code",
   "execution_count": null,
   "metadata": {
    "ExecuteTime": {
     "end_time": "2019-08-29T15:47:36.833500Z",
     "start_time": "2019-08-29T15:47:36.827822Z"
    }
   },
   "outputs": [],
   "source": [
    "sepal_len.shape"
   ]
  },
  {
   "cell_type": "code",
   "execution_count": null,
   "metadata": {
    "ExecuteTime": {
     "end_time": "2019-08-29T15:47:36.843403Z",
     "start_time": "2019-08-29T15:47:36.836261Z"
    }
   },
   "outputs": [],
   "source": [
    "np.mean(sepal_len), np.median(sepal_len)"
   ]
  },
  {
   "cell_type": "code",
   "execution_count": null,
   "metadata": {
    "ExecuteTime": {
     "end_time": "2019-08-29T15:47:36.851065Z",
     "start_time": "2019-08-29T15:47:36.845646Z"
    }
   },
   "outputs": [],
   "source": [
    "sepal_len[:5]"
   ]
  },
  {
   "cell_type": "markdown",
   "metadata": {
    "slideshow": {
     "slide_type": "slide"
    }
   },
   "source": [
    "## Broadcasting"
   ]
  },
  {
   "cell_type": "code",
   "execution_count": null,
   "metadata": {
    "ExecuteTime": {
     "end_time": "2019-08-29T15:47:36.859080Z",
     "start_time": "2019-08-29T15:47:36.853878Z"
    }
   },
   "outputs": [],
   "source": [
    "sepal_len.shape"
   ]
  },
  {
   "cell_type": "code",
   "execution_count": null,
   "metadata": {
    "ExecuteTime": {
     "end_time": "2019-08-29T15:47:36.869503Z",
     "start_time": "2019-08-29T15:47:36.862217Z"
    },
    "scrolled": false
   },
   "outputs": [],
   "source": [
    "diffs = np.abs(sepal_len[:,np.newaxis] - sepal_len[np.newaxis,:])\n",
    "diffs.shape"
   ]
  },
  {
   "cell_type": "code",
   "execution_count": null,
   "metadata": {
    "ExecuteTime": {
     "end_time": "2019-08-29T15:47:37.647378Z",
     "start_time": "2019-08-29T15:47:36.872716Z"
    }
   },
   "outputs": [],
   "source": [
    "sns.heatmap(diffs);"
   ]
  },
  {
   "cell_type": "code",
   "execution_count": null,
   "metadata": {
    "ExecuteTime": {
     "end_time": "2019-08-29T15:47:40.702097Z",
     "start_time": "2019-08-29T15:47:37.650647Z"
    },
    "slideshow": {
     "slide_type": "slide"
    }
   },
   "outputs": [],
   "source": [
    "%%timeit\n",
    "diffs = np.abs(sepal_len[:,np.newaxis] - sepal_len[np.newaxis,:])"
   ]
  },
  {
   "cell_type": "code",
   "execution_count": null,
   "metadata": {
    "ExecuteTime": {
     "end_time": "2019-08-29T15:47:43.910818Z",
     "start_time": "2019-08-29T15:47:40.703993Z"
    }
   },
   "outputs": [],
   "source": [
    "%%timeit\n",
    "diffs = np.zeros((150,150))\n",
    "\n",
    "for i in range(150):\n",
    "    for j in range(150):\n",
    "        diffs[i,j] = np.abs(sepal_len[i] - sepal_len[j])"
   ]
  },
  {
   "cell_type": "markdown",
   "metadata": {
    "slideshow": {
     "slide_type": "slide"
    }
   },
   "source": [
    "## Matplotlib : MATLAB-style API"
   ]
  },
  {
   "cell_type": "code",
   "execution_count": null,
   "metadata": {
    "ExecuteTime": {
     "end_time": "2019-08-29T15:47:44.118926Z",
     "start_time": "2019-08-29T15:47:43.912708Z"
    }
   },
   "outputs": [],
   "source": [
    "x = np.arange(0,50, .1)\n",
    "plt.plot(x, np.sin(x));"
   ]
  },
  {
   "cell_type": "markdown",
   "metadata": {
    "slideshow": {
     "slide_type": "slide"
    }
   },
   "source": [
    "## Matplotlib : MATLAB-style API"
   ]
  },
  {
   "cell_type": "code",
   "execution_count": null,
   "metadata": {
    "ExecuteTime": {
     "end_time": "2019-08-29T15:47:44.449166Z",
     "start_time": "2019-08-29T15:47:44.123154Z"
    }
   },
   "outputs": [],
   "source": [
    "plt.figure(figsize = (8,3))  # create a plot figure\n",
    "\n",
    "# create the first of two panels and set current axis\n",
    "plt.subplot(2, 1, 1) # (rows, columns, panel number)\n",
    "plt.plot(x, np.sin(x))\n",
    "\n",
    "# create the second panel and set current axis\n",
    "plt.subplot(2, 1, 2)\n",
    "plt.plot(-x, np.cos(x));"
   ]
  },
  {
   "cell_type": "markdown",
   "metadata": {
    "slideshow": {
     "slide_type": "slide"
    }
   },
   "source": [
    "## Matplotlib: Object Oriented API"
   ]
  },
  {
   "cell_type": "code",
   "execution_count": null,
   "metadata": {
    "ExecuteTime": {
     "end_time": "2019-08-29T15:47:45.058440Z",
     "start_time": "2019-08-29T15:47:44.453406Z"
    }
   },
   "outputs": [],
   "source": [
    "# First create a grid of plots\n",
    "# ax will be an array of two Axes objects\n",
    "fig, ax = plt.subplots(2,2, figsize=(12,3))\n",
    "\n",
    "# Call plot() method on the appropriate object\n",
    "ax[0,0].plot(x, np.sin(x))\n",
    "ax[0,1].plot(x, np.cos(x));"
   ]
  },
  {
   "cell_type": "markdown",
   "metadata": {
    "slideshow": {
     "slide_type": "slide"
    }
   },
   "source": [
    "## Seaborn overview\n"
   ]
  },
  {
   "cell_type": "code",
   "execution_count": null,
   "metadata": {
    "ExecuteTime": {
     "end_time": "2019-08-29T15:47:45.075337Z",
     "start_time": "2019-08-29T15:47:45.060593Z"
    },
    "colab": {
     "base_uri": "https://localhost:8080/",
     "height": 204
    },
    "colab_type": "code",
    "id": "KGCztG4eLpLP",
    "outputId": "43fbe4cf-207c-40a0-c6cf-b50f234b9282"
   },
   "outputs": [],
   "source": [
    "tips = sns.load_dataset('tips')\n",
    "tips['tip_pct'] = 100 * tips['tip'] / tips['total_bill']"
   ]
  },
  {
   "cell_type": "code",
   "execution_count": null,
   "metadata": {
    "ExecuteTime": {
     "end_time": "2019-08-29T15:47:46.237639Z",
     "start_time": "2019-08-29T15:47:45.077498Z"
    },
    "code_folding": [],
    "colab": {
     "base_uri": "https://localhost:8080/",
     "height": 437
    },
    "colab_type": "code",
    "id": "lqjgNWbcYVGz",
    "outputId": "51aef0f4-c5c8-47c4-84b2-6e9407570be6"
   },
   "outputs": [],
   "source": [
    "with sns.axes_style(style='ticks'):\n",
    "    grid = sns.FacetGrid(tips, row=\"sex\", col=\"time\", hue= \"smoker\", \n",
    "                         margin_titles=True)\n",
    "    grid.map(plt.hist, \"tip_pct\", bins=np.linspace(0, 40, 15), alpha = .5);"
   ]
  },
  {
   "cell_type": "code",
   "execution_count": null,
   "metadata": {
    "ExecuteTime": {
     "end_time": "2019-08-29T15:47:46.630141Z",
     "start_time": "2019-08-29T15:47:46.239816Z"
    },
    "colab": {
     "base_uri": "https://localhost:8080/",
     "height": 419
    },
    "colab_type": "code",
    "id": "GXxT0YVSYW8G",
    "outputId": "91888809-c3c3-472b-cda0-8bae3e6c10a5",
    "slideshow": {
     "slide_type": "slide"
    }
   },
   "outputs": [],
   "source": [
    "\n",
    "g = sns.catplot(\"day\", \"total_bill\", \"sex\", data=tips, kind=\"box\")\n"
   ]
  },
  {
   "cell_type": "markdown",
   "metadata": {
    "slideshow": {
     "slide_type": "slide"
    }
   },
   "source": [
    "## feature engineering example"
   ]
  },
  {
   "cell_type": "code",
   "execution_count": null,
   "metadata": {
    "ExecuteTime": {
     "end_time": "2019-08-29T15:47:47.341192Z",
     "start_time": "2019-08-29T15:47:46.632386Z"
    },
    "colab": {},
    "colab_type": "code",
    "id": "RClasq24jL4Z",
    "slideshow": {
     "slide_type": "-"
    }
   },
   "outputs": [],
   "source": [
    "from sklearn.datasets import make_circles\n",
    "\n",
    "np.random.seed(0)\n",
    "\n",
    "X, y = make_circles(n_samples=400, factor=.1, noise=.05)"
   ]
  },
  {
   "cell_type": "code",
   "execution_count": null,
   "metadata": {
    "ExecuteTime": {
     "end_time": "2019-08-29T15:47:47.348674Z",
     "start_time": "2019-08-29T15:47:47.343678Z"
    },
    "colab": {},
    "colab_type": "code",
    "id": "IlZT5-eC0_Ga",
    "slideshow": {
     "slide_type": "slide"
    }
   },
   "outputs": [],
   "source": [
    "df_X = pd.DataFrame(X, columns = [\"f1\", \"f2\"])\n",
    "df_X[\"f3\"] = df_X.f1**2 + df_X.f2**2"
   ]
  },
  {
   "cell_type": "code",
   "execution_count": null,
   "metadata": {
    "ExecuteTime": {
     "end_time": "2019-08-29T15:47:47.696168Z",
     "start_time": "2019-08-29T15:47:47.350903Z"
    },
    "colab": {
     "base_uri": "https://localhost:8080/",
     "height": 365
    },
    "colab_type": "code",
    "id": "JkdyoQPijvH7",
    "outputId": "0941b1bc-4305-4a4b-9e5e-abd8586a776d"
   },
   "outputs": [],
   "source": [
    "sns.relplot(x = \"f1\", y = \"f2\", hue = \"f3\", data = df_X);"
   ]
  },
  {
   "cell_type": "code",
   "execution_count": 1,
   "metadata": {
    "ExecuteTime": {
     "end_time": "2020-04-30T20:23:17.536923Z",
     "start_time": "2020-04-30T20:23:17.532798Z"
    }
   },
   "outputs": [],
   "source": [
    "import time"
   ]
  },
  {
   "cell_type": "code",
   "execution_count": 2,
   "metadata": {
    "ExecuteTime": {
     "end_time": "2020-04-30T20:23:21.100204Z",
     "start_time": "2020-04-30T20:23:20.835920Z"
    }
   },
   "outputs": [
    {
     "ename": "AttributeError",
     "evalue": "module 'time' has no attribute 'now'",
     "output_type": "error",
     "traceback": [
      "\u001b[0;31m---------------------------------------------------------------------------\u001b[0m",
      "\u001b[0;31mAttributeError\u001b[0m                            Traceback (most recent call last)",
      "\u001b[0;32m<ipython-input-2-87643641695b>\u001b[0m in \u001b[0;36m<module>\u001b[0;34m\u001b[0m\n\u001b[0;32m----> 1\u001b[0;31m \u001b[0mtime\u001b[0m\u001b[0;34m.\u001b[0m\u001b[0mnow\u001b[0m\u001b[0;34m(\u001b[0m\u001b[0;34m)\u001b[0m\u001b[0;34m\u001b[0m\u001b[0;34m\u001b[0m\u001b[0m\n\u001b[0m",
      "\u001b[0;31mAttributeError\u001b[0m: module 'time' has no attribute 'now'"
     ]
    }
   ],
   "source": [
    "time.now()"
   ]
  },
  {
   "cell_type": "code",
   "execution_count": 5,
   "metadata": {
    "ExecuteTime": {
     "end_time": "2020-04-30T20:23:33.257176Z",
     "start_time": "2020-04-30T20:23:33.248779Z"
    }
   },
   "outputs": [
    {
     "ename": "TypeError",
     "evalue": "time() takes no arguments (1 given)",
     "output_type": "error",
     "traceback": [
      "\u001b[0;31m---------------------------------------------------------------------------\u001b[0m",
      "\u001b[0;31mTypeError\u001b[0m                                 Traceback (most recent call last)",
      "\u001b[0;32m<ipython-input-5-28674675d615>\u001b[0m in \u001b[0;36m<module>\u001b[0;34m\u001b[0m\n\u001b[0;32m----> 1\u001b[0;31m \u001b[0mtime\u001b[0m\u001b[0;34m.\u001b[0m\u001b[0mtime\u001b[0m\u001b[0;34m(\u001b[0m\u001b[0;34m\"utc\"\u001b[0m\u001b[0;34m)\u001b[0m\u001b[0;34m\u001b[0m\u001b[0;34m\u001b[0m\u001b[0m\n\u001b[0m",
      "\u001b[0;31mTypeError\u001b[0m: time() takes no arguments (1 given)"
     ]
    }
   ],
   "source": [
    "time.time(\"utc\")"
   ]
  },
  {
   "cell_type": "code",
   "execution_count": 6,
   "metadata": {
    "ExecuteTime": {
     "end_time": "2020-04-30T20:23:47.126472Z",
     "start_time": "2020-04-30T20:23:47.123560Z"
    }
   },
   "outputs": [],
   "source": [
    "import datetime"
   ]
  },
  {
   "cell_type": "code",
   "execution_count": 7,
   "metadata": {
    "ExecuteTime": {
     "end_time": "2020-04-30T20:23:54.908510Z",
     "start_time": "2020-04-30T20:23:54.905741Z"
    }
   },
   "outputs": [],
   "source": [
    "now = datetime.datetime.now()"
   ]
  },
  {
   "cell_type": "code",
   "execution_count": 8,
   "metadata": {
    "ExecuteTime": {
     "end_time": "2020-04-30T20:24:00.621435Z",
     "start_time": "2020-04-30T20:24:00.618005Z"
    }
   },
   "outputs": [
    {
     "name": "stdout",
     "output_type": "stream",
     "text": [
      "2020-04-30 13:23:54\n"
     ]
    }
   ],
   "source": [
    "print (now.strftime(\"%Y-%m-%d %H:%M:%S\"))"
   ]
  },
  {
   "cell_type": "code",
   "execution_count": 9,
   "metadata": {
    "ExecuteTime": {
     "end_time": "2020-05-01T20:48:40.437757Z",
     "start_time": "2020-05-01T20:48:40.421363Z"
    }
   },
   "outputs": [],
   "source": [
    "class BinaryTreeNode(object):\n",
    "\n",
    "    def __init__(self, value):\n",
    "        self.value = value\n",
    "        self.left = None\n",
    "        self.right = None\n",
    "\n",
    "    def insert_left(self, value):\n",
    "        self.left = Test.BinaryTreeNode(value)\n",
    "        return self.left\n",
    "\n",
    "    def insert_right(self, value):\n",
    "        self.right = Test.BinaryTreeNode(value)\n",
    "        return self.right"
   ]
  },
  {
   "cell_type": "code",
   "execution_count": 10,
   "metadata": {
    "ExecuteTime": {
     "end_time": "2020-05-01T20:49:07.211558Z",
     "start_time": "2020-05-01T20:49:07.179354Z"
    }
   },
   "outputs": [
    {
     "ename": "NameError",
     "evalue": "name 'Test' is not defined",
     "output_type": "error",
     "traceback": [
      "\u001b[0;31m---------------------------------------------------------------------------\u001b[0m",
      "\u001b[0;31mNameError\u001b[0m                                 Traceback (most recent call last)",
      "\u001b[0;32m<ipython-input-10-237188021f4c>\u001b[0m in \u001b[0;36m<module>\u001b[0;34m\u001b[0m\n\u001b[0;32m----> 1\u001b[0;31m \u001b[0mtree\u001b[0m \u001b[0;34m=\u001b[0m \u001b[0mTest\u001b[0m\u001b[0;34m.\u001b[0m\u001b[0mBinaryTreeNode\u001b[0m\u001b[0;34m(\u001b[0m\u001b[0;36m5\u001b[0m\u001b[0;34m)\u001b[0m\u001b[0;34m\u001b[0m\u001b[0;34m\u001b[0m\u001b[0m\n\u001b[0m\u001b[1;32m      2\u001b[0m \u001b[0mleft\u001b[0m \u001b[0;34m=\u001b[0m \u001b[0mtree\u001b[0m\u001b[0;34m.\u001b[0m\u001b[0minsert_left\u001b[0m\u001b[0;34m(\u001b[0m\u001b[0;36m8\u001b[0m\u001b[0;34m)\u001b[0m\u001b[0;34m\u001b[0m\u001b[0;34m\u001b[0m\u001b[0m\n\u001b[1;32m      3\u001b[0m \u001b[0mright\u001b[0m \u001b[0;34m=\u001b[0m \u001b[0mtree\u001b[0m\u001b[0;34m.\u001b[0m\u001b[0minsert_right\u001b[0m\u001b[0;34m(\u001b[0m\u001b[0;36m6\u001b[0m\u001b[0;34m)\u001b[0m\u001b[0;34m\u001b[0m\u001b[0;34m\u001b[0m\u001b[0m\n\u001b[1;32m      4\u001b[0m \u001b[0mleft\u001b[0m\u001b[0;34m.\u001b[0m\u001b[0minsert_left\u001b[0m\u001b[0;34m(\u001b[0m\u001b[0;36m1\u001b[0m\u001b[0;34m)\u001b[0m\u001b[0;34m\u001b[0m\u001b[0;34m\u001b[0m\u001b[0m\n\u001b[1;32m      5\u001b[0m \u001b[0mleft\u001b[0m\u001b[0;34m.\u001b[0m\u001b[0minsert_right\u001b[0m\u001b[0;34m(\u001b[0m\u001b[0;36m2\u001b[0m\u001b[0;34m)\u001b[0m\u001b[0;34m\u001b[0m\u001b[0;34m\u001b[0m\u001b[0m\n",
      "\u001b[0;31mNameError\u001b[0m: name 'Test' is not defined"
     ]
    }
   ],
   "source": [
    "tree = Test.BinaryTreeNode(5)\n",
    "left = tree.insert_left(8)\n",
    "right = tree.insert_right(6)\n",
    "left.insert_left(1)\n",
    "left.insert_right(2)\n",
    "right.insert_left(3)\n",
    "right.insert_right(4)"
   ]
  },
  {
   "cell_type": "code",
   "execution_count": null,
   "metadata": {},
   "outputs": [],
   "source": []
  },
  {
   "cell_type": "code",
   "execution_count": 12,
   "metadata": {
    "ExecuteTime": {
     "end_time": "2020-05-01T21:00:53.544102Z",
     "start_time": "2020-05-01T21:00:53.524288Z"
    }
   },
   "outputs": [],
   "source": [
    "import unittest\n",
    "\n",
    "\n",
    "\n",
    "\n",
    "\n",
    "\n",
    "\n",
    "\n",
    "\n",
    "\n",
    "\n",
    "\n",
    "\n",
    "\n",
    "\n",
    "# Tests\n",
    "\n",
    "class Test(unittest.TestCase):\n",
    "\n",
    "    class BinaryTreeNode(object):\n",
    "\n",
    "        def __init__(self, value):\n",
    "            self.value = value\n",
    "            self.left = None\n",
    "            self.right = None\n",
    "\n",
    "        def insert_left(self, value):\n",
    "            self.left = Test.BinaryTreeNode(value)\n",
    "            return self.left\n",
    "\n",
    "        def insert_right(self, value):\n",
    "            self.right = Test.BinaryTreeNode(value)\n",
    "            return self.right\n",
    "\n",
    "    def test_full_tree(self):\n",
    "        tree = Test.BinaryTreeNode(5)\n",
    "        left = tree.insert_left(8)\n",
    "        right = tree.insert_right(6)\n",
    "        left.insert_left(1)\n",
    "        left.insert_right(2)\n",
    "        right.insert_left(3)\n",
    "        right.insert_right(4)\n",
    "        result = is_balanced(tree)\n",
    "        self.assertTrue(result)\n",
    "\n",
    "    def test_both_leaves_at_the_same_depth(self):\n",
    "        tree = Test.BinaryTreeNode(3)\n",
    "        left = tree.insert_left(4)\n",
    "        right = tree.insert_right(2)\n",
    "        left.insert_left(1)\n",
    "        right.insert_right(9)\n",
    "        result = is_balanced(tree)\n",
    "        self.assertTrue(result)\n",
    "\n",
    "    def test_leaf_heights_differ_by_one(self):\n",
    "        tree = Test.BinaryTreeNode(6)\n",
    "        left = tree.insert_left(1)\n",
    "        right = tree.insert_right(0)\n",
    "        right.insert_right(7)\n",
    "        result = is_balanced(tree)\n",
    "        self.assertTrue(result)\n",
    "\n",
    "    def test_leaf_heights_differ_by_two(self):\n",
    "        tree = Test.BinaryTreeNode(6)\n",
    "        left = tree.insert_left(1)\n",
    "        right = tree.insert_right(0)\n",
    "        right_right = right.insert_right(7)\n",
    "        right_right.insert_right(8)\n",
    "        result = is_balanced(tree)\n",
    "        self.assertFalse(result)\n",
    "\n",
    "    def test_three_leaves_total(self):\n",
    "        tree = Test.BinaryTreeNode(1)\n",
    "        left = tree.insert_left(5)\n",
    "        right = tree.insert_right(9)\n",
    "        right.insert_left(8)\n",
    "        right.insert_right(5)\n",
    "        result = is_balanced(tree)\n",
    "        self.assertTrue(result)\n",
    "\n",
    "    def test_both_subtrees_superbalanced(self):\n",
    "        tree = Test.BinaryTreeNode(1)\n",
    "        left = tree.insert_left(5)\n",
    "        right = tree.insert_right(9)\n",
    "        right_left = right.insert_left(8)\n",
    "        right.insert_right(5)\n",
    "        right_left.insert_left(7)\n",
    "        result = is_balanced(tree)\n",
    "        self.assertFalse(result)\n",
    "\n",
    "    def test_both_subtrees_superbalanced_two(self):\n",
    "        tree = Test.BinaryTreeNode(1)\n",
    "        left = tree.insert_left(2)\n",
    "        right = tree.insert_right(4)\n",
    "        left.insert_left(3)\n",
    "        left_right = left.insert_right(7)\n",
    "        left_right.insert_right(8)\n",
    "        right_right = right.insert_right(5)\n",
    "        right_right_right = right_right.insert_right(6)\n",
    "        right_right_right.insert_right(9)\n",
    "        result = is_balanced(tree)\n",
    "        self.assertFalse(result)\n",
    "\n",
    "    def test_only_one_node(self):\n",
    "        tree = Test.BinaryTreeNode(1)\n",
    "        result = is_balanced(tree)\n",
    "        self.assertTrue(result)\n",
    "\n",
    "    def test_linked_list_tree(self):\n",
    "        tree = Test.BinaryTreeNode(1)\n",
    "        right = tree.insert_right(2)\n",
    "        right_right = right.insert_right(3)\n",
    "        right_right.insert_right(4)\n",
    "        result = is_balanced(tree)\n",
    "        self.assertTrue(result)\n",
    "\n"
   ]
  },
  {
   "cell_type": "code",
   "execution_count": 39,
   "metadata": {
    "ExecuteTime": {
     "end_time": "2020-05-01T21:12:17.090054Z",
     "start_time": "2020-05-01T21:12:17.082806Z"
    }
   },
   "outputs": [],
   "source": [
    "def is_balanced(tree_root):\n",
    "    # Determine if the tree is superbalanced\n",
    "    max_height = 0\n",
    "    min_height = 0\n",
    "    super_balanced = True\n",
    "    \n",
    "    queue = [(tree_root, [tree_root])]\n",
    "    while queue:\n",
    "        vertex, path = queue.pop()\n",
    "        \n",
    "        if vertex.left is None:\n",
    "            if max_height < len(path):\n",
    "                max_height = len(path) \n",
    "            if min_height > len(path):\n",
    "                min_height = len(path)\n",
    "        else:\n",
    "            queue.append((vertex.left, path + [vertex.left]))\n",
    "        \n",
    "        if vertex.right is None:\n",
    "            if max_height < len(path):\n",
    "                max_height = len(path) \n",
    "            if min_height > len(path):\n",
    "                min_height = len(path)\n",
    "        else:\n",
    "            queue.append((vertex.right, path + [vertex.left]))\n",
    "    \n",
    "        \n",
    "        if max_height - min_height > 1:\n",
    "            super_balanced = False\n",
    "            break\n",
    "\n",
    "    return super_balanced\n",
    "\n",
    "\n",
    "\n",
    "\n",
    "\n"
   ]
  },
  {
   "cell_type": "code",
   "execution_count": 26,
   "metadata": {
    "ExecuteTime": {
     "end_time": "2020-05-01T21:03:23.825620Z",
     "start_time": "2020-05-01T21:03:23.822681Z"
    }
   },
   "outputs": [],
   "source": [
    "tree = Test.BinaryTreeNode(6)\n"
   ]
  },
  {
   "cell_type": "code",
   "execution_count": 21,
   "metadata": {
    "ExecuteTime": {
     "end_time": "2020-05-01T21:02:14.577026Z",
     "start_time": "2020-05-01T21:02:14.573969Z"
    }
   },
   "outputs": [],
   "source": [
    "left = tree.insert_left(1)\n",
    "right = tree.insert_right(0)"
   ]
  },
  {
   "cell_type": "code",
   "execution_count": 24,
   "metadata": {
    "ExecuteTime": {
     "end_time": "2020-05-01T21:02:24.467880Z",
     "start_time": "2020-05-01T21:02:24.463432Z"
    }
   },
   "outputs": [
    {
     "data": {
      "text/plain": [
       "0"
      ]
     },
     "execution_count": 24,
     "metadata": {},
     "output_type": "execute_result"
    }
   ],
   "source": [
    "tree.right.value"
   ]
  },
  {
   "cell_type": "code",
   "execution_count": null,
   "metadata": {},
   "outputs": [],
   "source": [
    "right_right = right.insert_right(7)"
   ]
  },
  {
   "cell_type": "code",
   "execution_count": 25,
   "metadata": {
    "ExecuteTime": {
     "end_time": "2020-05-01T21:03:19.326881Z",
     "start_time": "2020-05-01T21:03:19.321958Z"
    }
   },
   "outputs": [
    {
     "data": {
      "text/plain": [
       "<__main__.Test.BinaryTreeNode at 0x118d17c88>"
      ]
     },
     "execution_count": 25,
     "metadata": {},
     "output_type": "execute_result"
    }
   ],
   "source": [
    "tree.left"
   ]
  },
  {
   "cell_type": "code",
   "execution_count": 15,
   "metadata": {
    "ExecuteTime": {
     "end_time": "2020-05-01T21:01:29.246851Z",
     "start_time": "2020-05-01T21:01:29.242501Z"
    }
   },
   "outputs": [
    {
     "data": {
      "text/plain": [
       "False"
      ]
     },
     "execution_count": 15,
     "metadata": {},
     "output_type": "execute_result"
    }
   ],
   "source": [
    "left = tree.insert_left(1)\n",
    "right = tree.insert_right(0)\n",
    "right_right = right.insert_right(7)\n",
    "right_right.insert_right(8)\n",
    "result = is_balanced(tree)"
   ]
  },
  {
   "cell_type": "code",
   "execution_count": 40,
   "metadata": {
    "ExecuteTime": {
     "end_time": "2020-05-01T21:12:21.729037Z",
     "start_time": "2020-05-01T21:12:21.725816Z"
    }
   },
   "outputs": [],
   "source": [
    "tree = Test.BinaryTreeNode(1)\n"
   ]
  },
  {
   "cell_type": "code",
   "execution_count": 41,
   "metadata": {
    "ExecuteTime": {
     "end_time": "2020-05-01T21:12:21.977578Z",
     "start_time": "2020-05-01T21:12:21.974914Z"
    }
   },
   "outputs": [],
   "source": [
    "right = tree.insert_right(2)"
   ]
  },
  {
   "cell_type": "code",
   "execution_count": 42,
   "metadata": {
    "ExecuteTime": {
     "end_time": "2020-05-01T21:12:22.173344Z",
     "start_time": "2020-05-01T21:12:22.170805Z"
    }
   },
   "outputs": [],
   "source": [
    "tree.right.left"
   ]
  },
  {
   "cell_type": "code",
   "execution_count": 43,
   "metadata": {
    "ExecuteTime": {
     "end_time": "2020-05-01T21:12:22.379584Z",
     "start_time": "2020-05-01T21:12:22.366673Z"
    }
   },
   "outputs": [
    {
     "name": "stdout",
     "output_type": "stream",
     "text": [
      "1\n",
      "2\n"
     ]
    },
    {
     "ename": "AttributeError",
     "evalue": "'NoneType' object has no attribute 'left'",
     "output_type": "error",
     "traceback": [
      "\u001b[0;31m---------------------------------------------------------------------------\u001b[0m",
      "\u001b[0;31mAttributeError\u001b[0m                            Traceback (most recent call last)",
      "\u001b[0;32m<ipython-input-43-4944e1d016b8>\u001b[0m in \u001b[0;36m<module>\u001b[0;34m\u001b[0m\n\u001b[1;32m      2\u001b[0m \u001b[0mright_right\u001b[0m \u001b[0;34m=\u001b[0m \u001b[0mright\u001b[0m\u001b[0;34m.\u001b[0m\u001b[0minsert_right\u001b[0m\u001b[0;34m(\u001b[0m\u001b[0;36m3\u001b[0m\u001b[0;34m)\u001b[0m\u001b[0;34m\u001b[0m\u001b[0;34m\u001b[0m\u001b[0m\n\u001b[1;32m      3\u001b[0m \u001b[0mright_right\u001b[0m\u001b[0;34m.\u001b[0m\u001b[0minsert_right\u001b[0m\u001b[0;34m(\u001b[0m\u001b[0;36m4\u001b[0m\u001b[0;34m)\u001b[0m\u001b[0;34m\u001b[0m\u001b[0;34m\u001b[0m\u001b[0m\n\u001b[0;32m----> 4\u001b[0;31m \u001b[0mresult\u001b[0m \u001b[0;34m=\u001b[0m \u001b[0mis_balanced\u001b[0m\u001b[0;34m(\u001b[0m\u001b[0mtree\u001b[0m\u001b[0;34m)\u001b[0m\u001b[0;34m\u001b[0m\u001b[0;34m\u001b[0m\u001b[0m\n\u001b[0m",
      "\u001b[0;32m<ipython-input-39-b373ed3833af>\u001b[0m in \u001b[0;36mis_balanced\u001b[0;34m(tree_root)\u001b[0m\n\u001b[1;32m     11\u001b[0m         \u001b[0mprint\u001b[0m\u001b[0;34m(\u001b[0m\u001b[0mlen\u001b[0m\u001b[0;34m(\u001b[0m\u001b[0mpath\u001b[0m\u001b[0;34m)\u001b[0m\u001b[0;34m)\u001b[0m\u001b[0;34m\u001b[0m\u001b[0;34m\u001b[0m\u001b[0m\n\u001b[1;32m     12\u001b[0m \u001b[0;34m\u001b[0m\u001b[0m\n\u001b[0;32m---> 13\u001b[0;31m         \u001b[0;32mif\u001b[0m \u001b[0mvertex\u001b[0m\u001b[0;34m.\u001b[0m\u001b[0mleft\u001b[0m \u001b[0;32mis\u001b[0m \u001b[0;32mNone\u001b[0m\u001b[0;34m:\u001b[0m\u001b[0;34m\u001b[0m\u001b[0;34m\u001b[0m\u001b[0m\n\u001b[0m\u001b[1;32m     14\u001b[0m             \u001b[0;32mif\u001b[0m \u001b[0mmax_height\u001b[0m \u001b[0;34m<\u001b[0m \u001b[0mlen\u001b[0m\u001b[0;34m(\u001b[0m\u001b[0mpath\u001b[0m\u001b[0;34m)\u001b[0m\u001b[0;34m:\u001b[0m\u001b[0;34m\u001b[0m\u001b[0;34m\u001b[0m\u001b[0m\n\u001b[1;32m     15\u001b[0m                 \u001b[0mmax_height\u001b[0m \u001b[0;34m=\u001b[0m \u001b[0mlen\u001b[0m\u001b[0;34m(\u001b[0m\u001b[0mpath\u001b[0m\u001b[0;34m)\u001b[0m\u001b[0;34m\u001b[0m\u001b[0;34m\u001b[0m\u001b[0m\n",
      "\u001b[0;31mAttributeError\u001b[0m: 'NoneType' object has no attribute 'left'"
     ]
    }
   ],
   "source": [
    "right = tree.insert_right(2)\n",
    "right_right = right.insert_right(3)\n",
    "right_right.insert_right(4)\n",
    "result = is_balanced(tree)"
   ]
  },
  {
   "cell_type": "code",
   "execution_count": null,
   "metadata": {},
   "outputs": [],
   "source": []
  },
  {
   "cell_type": "code",
   "execution_count": null,
   "metadata": {},
   "outputs": [],
   "source": []
  }
 ],
 "metadata": {
  "celltoolbar": "Slideshow",
  "colab": {
   "name": "matplotlib-seaborn.ipynb",
   "provenance": [],
   "version": "0.3.2"
  },
  "hide_input": false,
  "kernelspec": {
   "display_name": "Python 3",
   "language": "python",
   "name": "python3"
  },
  "language_info": {
   "codemirror_mode": {
    "name": "ipython",
    "version": 3
   },
   "file_extension": ".py",
   "mimetype": "text/x-python",
   "name": "python",
   "nbconvert_exporter": "python",
   "pygments_lexer": "ipython3",
   "version": "3.6.10"
  },
  "latex_envs": {
   "LaTeX_envs_menu_present": false,
   "autoclose": false,
   "autocomplete": true,
   "bibliofile": "biblio.bib",
   "cite_by": "apalike",
   "current_citInitial": 1,
   "eqLabelWithNumbers": true,
   "eqNumInitial": 1,
   "hotkeys": {
    "equation": "Ctrl-E",
    "itemize": "Ctrl-I"
   },
   "labels_anchors": false,
   "latex_user_defs": false,
   "report_style_numbering": false,
   "user_envs_cfg": false
  },
  "varInspector": {
   "cols": {
    "lenName": 16,
    "lenType": 16,
    "lenVar": 40
   },
   "kernels_config": {
    "python": {
     "delete_cmd_postfix": "",
     "delete_cmd_prefix": "del ",
     "library": "var_list.py",
     "varRefreshCmd": "print(var_dic_list())"
    },
    "r": {
     "delete_cmd_postfix": ") ",
     "delete_cmd_prefix": "rm(",
     "library": "var_list.r",
     "varRefreshCmd": "cat(var_dic_list()) "
    }
   },
   "types_to_exclude": [
    "module",
    "function",
    "builtin_function_or_method",
    "instance",
    "_Feature"
   ],
   "window_display": false
  }
 },
 "nbformat": 4,
 "nbformat_minor": 2
}
